{
 "cells": [
  {
   "cell_type": "code",
   "execution_count": 26,
   "id": "eb9e7496",
   "metadata": {},
   "outputs": [],
   "source": [
    "import re\n",
    "import pandas as pd\n",
    "import pyttsx3\n",
    "from sklearn import preprocessing\n",
    "from sklearn.tree import DecisionTreeClassifier,_tree\n",
    "import numpy as np\n",
    "from sklearn.model_selection import train_test_split\n",
    "from sklearn.model_selection import cross_val_score\n",
    "from sklearn.svm import SVC\n",
    "import csv\n",
    "import warnings\n",
    "warnings.filterwarnings(\"ignore\", category=DeprecationWarning)\n"
   ]
  },
  {
   "cell_type": "code",
   "execution_count": 27,
   "id": "94faef1b",
   "metadata": {},
   "outputs": [],
   "source": [
    "training = pd.read_csv('Data/Training.csv')\n",
    "testing= pd.read_csv('Data/Testing.csv')\n",
    "cols= training.columns\n",
    "cols= cols[:-1]\n",
    "x = training[cols]\n",
    "y = training['prognosis']\n",
    "y1= y"
   ]
  },
  {
   "cell_type": "code",
   "execution_count": 28,
   "id": "df15f3cd",
   "metadata": {},
   "outputs": [],
   "source": [
    "reduced_data = training.groupby(training['prognosis']).max()\n",
    "\n",
    "#mapping strings to numbers\n",
    "le = preprocessing.LabelEncoder()\n",
    "le.fit(y)\n",
    "y = le.transform(y)\n"
   ]
  },
  {
   "cell_type": "code",
   "execution_count": 29,
   "id": "ad701dd0",
   "metadata": {},
   "outputs": [],
   "source": [
    "\n",
    "x_train, x_test, y_train, y_test = train_test_split(x, y, test_size=0.33, random_state=42)\n",
    "testx    = testing[cols]\n",
    "testy    = testing['prognosis']  \n",
    "testy    = le.transform(testy)"
   ]
  },
  {
   "cell_type": "code",
   "execution_count": 30,
   "id": "21627e45",
   "metadata": {},
   "outputs": [
    {
     "name": "stdout",
     "output_type": "stream",
     "text": [
      "0.9747586015601376\n"
     ]
    }
   ],
   "source": [
    "clf1  = DecisionTreeClassifier()\n",
    "clf = clf1.fit(x_train,y_train)\n",
    "# print(clf.score(x_train,y_train))\n",
    "# print (\"cross result========\")\n",
    "scores = cross_val_score(clf, x_test, y_test, cv=3)\n",
    "# print (scores)\n",
    "print (scores.mean())"
   ]
  },
  {
   "cell_type": "code",
   "execution_count": 31,
   "id": "513176c1",
   "metadata": {},
   "outputs": [
    {
     "name": "stdout",
     "output_type": "stream",
     "text": [
      "for svm: \n",
      "1.0\n"
     ]
    }
   ],
   "source": [
    "model=SVC()\n",
    "model.fit(x_train,y_train)\n",
    "print(\"for svm: \")\n",
    "print(model.score(x_test,y_test))\n",
    "\n",
    "importances = clf.feature_importances_\n",
    "indices = np.argsort(importances)[::-1]\n",
    "features = cols\n",
    "\n",
    "def readn(nstr):\n",
    "    engine = pyttsx3.init()\n",
    "\n",
    "    engine.setProperty('voice', \"english+f5\")\n",
    "    engine.setProperty('rate', 130)\n",
    "\n",
    "    engine.say(nstr)\n",
    "    engine.runAndWait()\n",
    "    engine.stop()\n",
    "\n"
   ]
  },
  {
   "cell_type": "code",
   "execution_count": 32,
   "id": "40d2fd9d",
   "metadata": {},
   "outputs": [],
   "source": [
    "severityDictionary=dict()\n",
    "description_list = dict()\n",
    "precautionDictionary=dict()\n",
    "\n",
    "symptoms_dict = {}\n",
    "\n",
    "for index, symptom in enumerate(x):\n",
    "       symptoms_dict[symptom] = index\n",
    "def calc_condition(exp,days):\n",
    "    sum=0\n",
    "    for item in exp:\n",
    "         sum=sum+severityDictionary[item]\n",
    "    if((sum*days)/(len(exp)+1)>13):\n",
    "        print(\"You should take the consultation from doctor. \")\n",
    "    else:\n",
    "        print(\"It might not be that bad but you should take precautions.\")"
   ]
  },
  {
   "cell_type": "code",
   "execution_count": 33,
   "id": "6293cc0a",
   "metadata": {},
   "outputs": [],
   "source": [
    "def getDescription():\n",
    "    global description_list\n",
    "    with open('MasterData/symptom_Description.csv') as csv_file:\n",
    "        csv_reader = csv.reader(csv_file, delimiter=',')\n",
    "        line_count = 0\n",
    "        for row in csv_reader:\n",
    "            _description={row[0]:row[1]}\n",
    "            description_list.update(_description)"
   ]
  },
  {
   "cell_type": "code",
   "execution_count": 34,
   "id": "4d4aafe5",
   "metadata": {},
   "outputs": [],
   "source": [
    "def getSeverityDict():\n",
    "    global severityDictionary\n",
    "    with open('MasterData/symptom_severity.csv') as csv_file:\n",
    "\n",
    "        csv_reader = csv.reader(csv_file, delimiter=',')\n",
    "        line_count = 0\n",
    "        try:\n",
    "            for row in csv_reader:\n",
    "                _diction={row[0]:int(row[1])}\n",
    "                severityDictionary.update(_diction)\n",
    "        except:\n",
    "            pass\n",
    "\n"
   ]
  },
  {
   "cell_type": "code",
   "execution_count": 35,
   "id": "fddfd76e",
   "metadata": {},
   "outputs": [],
   "source": [
    "def getprecautionDict():\n",
    "    global precautionDictionary\n",
    "    with open('MasterData/symptom_precaution.csv') as csv_file:\n",
    "\n",
    "        csv_reader = csv.reader(csv_file, delimiter=',')\n",
    "        line_count = 0\n",
    "        for row in csv_reader:\n",
    "            _prec={row[0]:[row[1],row[2],row[3],row[4]]}\n",
    "            precautionDictionary.update(_prec)"
   ]
  },
  {
   "cell_type": "code",
   "execution_count": 36,
   "id": "c796893d",
   "metadata": {},
   "outputs": [],
   "source": [
    "def getInfo():\n",
    "    print(\"-----------------------------------HealthCare ChatBot-----------------------------------\")\n",
    "    print(\"\\nYour Name? \\t\\t\\t\\t\",end=\"->\")\n",
    "    name=input(\"\")\n",
    "    print(\"Hello, \",name)\n"
   ]
  },
  {
   "cell_type": "code",
   "execution_count": 37,
   "id": "de4d5189",
   "metadata": {},
   "outputs": [],
   "source": [
    "def check_pattern(dis_list,inp):\n",
    "    pred_list=[]\n",
    "    inp=inp.replace(' ','_')\n",
    "    patt = f\"{inp}\"\n",
    "    regexp = re.compile(patt)\n",
    "    pred_list=[item for item in dis_list if regexp.search(item)]\n",
    "    if(len(pred_list)>0):\n",
    "        return 1,pred_list\n",
    "    else:\n",
    "        return 0,[]"
   ]
  },
  {
   "cell_type": "code",
   "execution_count": 38,
   "id": "0986537a",
   "metadata": {},
   "outputs": [],
   "source": [
    "def sec_predict(symptoms_exp):\n",
    "    df = pd.read_csv('Data/Training.csv')\n",
    "    X = df.iloc[:, :-1]\n",
    "    y = df['prognosis']\n",
    "    X_train, X_test, y_train, y_test = train_test_split(X, y, test_size=0.3, random_state=20)\n",
    "    rf_clf = DecisionTreeClassifier()\n",
    "    rf_clf.fit(X_train, y_train)\n",
    "\n",
    "    symptoms_dict = {symptom: index for index, symptom in enumerate(X)}\n",
    "    input_vector = np.zeros(len(symptoms_dict))\n",
    "    for item in symptoms_exp:\n",
    "      input_vector[[symptoms_dict[item]]] = 1\n",
    "\n",
    "    return rf_clf.predict([input_vector])\n"
   ]
  },
  {
   "cell_type": "code",
   "execution_count": 39,
   "id": "f7448a49",
   "metadata": {},
   "outputs": [],
   "source": [
    "def print_disease(node):\n",
    "    node = node[0]\n",
    "    val  = node.nonzero() \n",
    "    disease = le.inverse_transform(val[0])\n",
    "    return list(map(lambda x:x.strip(),list(disease)))\n"
   ]
  },
  {
   "cell_type": "code",
   "execution_count": 40,
   "id": "effbfdf5",
   "metadata": {},
   "outputs": [],
   "source": [
    "def tree_to_code(tree, feature_names):\n",
    "    tree_ = tree.tree_\n",
    "    feature_name = [\n",
    "        feature_names[i] if i != _tree.TREE_UNDEFINED else \"undefined!\"\n",
    "        for i in tree_.feature\n",
    "    ]\n",
    "\n",
    "    chk_dis=\",\".join(feature_names).split(\",\")\n",
    "    symptoms_present = []\n",
    "\n",
    "    while True:\n",
    "\n",
    "        print(\"\\nEnter the symptom you are experiencing  \\t\\t\",end=\"->\")\n",
    "        disease_input = input(\"\")\n",
    "        conf,cnf_dis=check_pattern(chk_dis,disease_input)\n",
    "        if conf==1:\n",
    "            print(\"searches related to input: \")\n",
    "            for num,it in enumerate(cnf_dis):\n",
    "                print(num,\")\",it)\n",
    "            if num!=0:\n",
    "                print(f\"Select the one you meant (0 - {num}):  \", end=\"\")\n",
    "                conf_inp = int(input(\"\"))\n",
    "            else:\n",
    "                conf_inp=0\n",
    "\n",
    "            disease_input=cnf_dis[conf_inp]\n",
    "            break\n",
    "            # print(\"Did you mean: \",cnf_dis,\"?(yes/no) :\",end=\"\")\n",
    "            # conf_inp = input(\"\")\n",
    "            # if(conf_inp==\"yes\"):\n",
    "            #     break\n",
    "        else:\n",
    "            print(\"Enter valid symptom.\")\n",
    "\n",
    "    while True:\n",
    "        try:\n",
    "            num_days=int(input(\"Okay. From how many days ? : \"))\n",
    "            break\n",
    "        except:\n",
    "            print(\"Enter valid input.\")\n",
    "    def recurse(node, depth):\n",
    "        indent = \"  \" * depth\n",
    "        if tree_.feature[node] != _tree.TREE_UNDEFINED:\n",
    "            name = feature_name[node]\n",
    "            threshold = tree_.threshold[node]\n",
    "\n",
    "            if name == disease_input:\n",
    "                val = 1\n",
    "            else:\n",
    "                val = 0\n",
    "            if  val <= threshold:\n",
    "                recurse(tree_.children_left[node], depth + 1)\n",
    "            else:\n",
    "                symptoms_present.append(name)\n",
    "                recurse(tree_.children_right[node], depth + 1)\n",
    "        else:\n",
    "            present_disease = print_disease(tree_.value[node])\n",
    "            # print( \"You may have \" +  present_disease )\n",
    "            red_cols = reduced_data.columns \n",
    "            symptoms_given = red_cols[reduced_data.loc[present_disease].values[0].nonzero()]\n",
    "            # dis_list=list(symptoms_present)\n",
    "            # if len(dis_list)!=0:\n",
    "            #     print(\"symptoms present  \" + str(list(symptoms_present)))\n",
    "            # print(\"symptoms given \"  +  str(list(symptoms_given)) )\n",
    "            print(\"Are you experiencing any \")\n",
    "            symptoms_exp=[]\n",
    "            for syms in list(symptoms_given):\n",
    "                inp=\"\"\n",
    "                print(syms,\"? : \",end='')\n",
    "                while True:\n",
    "                    inp=input(\"\")\n",
    "                    if(inp==\"yes\" or inp==\"no\"):\n",
    "                        break\n",
    "                    else:\n",
    "                        print(\"provide proper answers i.e. (yes/no) : \",end=\"\")\n",
    "                if(inp==\"yes\"):\n",
    "                    symptoms_exp.append(syms)\n",
    "\n",
    "            second_prediction=sec_predict(symptoms_exp)\n",
    "            # print(second_prediction)\n",
    "            calc_condition(symptoms_exp,num_days)\n",
    "            if(present_disease[0]==second_prediction[0]):\n",
    "                print(\"You may have \", present_disease[0])\n",
    "                print(description_list[present_disease[0]])\n",
    "\n",
    "                # readn(f\"You may have {present_disease[0]}\")\n",
    "                # readn(f\"{description_list[present_disease[0]]}\")\n",
    "\n",
    "            else:\n",
    "                print(\"You may have \", present_disease[0], \"or \", second_prediction[0])\n",
    "                print(description_list[present_disease[0]])\n",
    "                print(description_list[second_prediction[0]])\n",
    "\n",
    "            # print(description_list[present_disease[0]])\n",
    "            precution_list=precautionDictionary[present_disease[0]]\n",
    "            print(\"Take following measures : \")\n",
    "            for  i,j in enumerate(precution_list):\n",
    "                print(i+1,\")\",j)\n",
    "\n",
    "            # confidence_level = (1.0*len(symptoms_present))/len(symptoms_given)\n",
    "            # print(\"confidence level is \" + str(confidence_level))\n",
    "    recurse(0, 1)"
   ]
  },
  {
   "cell_type": "code",
   "execution_count": 41,
   "id": "fd9e0ace",
   "metadata": {},
   "outputs": [
    {
     "name": "stdout",
     "output_type": "stream",
     "text": [
      "-----------------------------------HealthCare ChatBot-----------------------------------\n",
      "\n",
      "Your Name? \t\t\t\t->Divyanshu\n",
      "Hello,  Divyanshu\n",
      "\n",
      "Enter the symptom you are experiencing  \t\t->Cough\n",
      "Enter valid symptom.\n",
      "\n",
      "Enter the symptom you are experiencing  \t\t->Allergy\n",
      "Enter valid symptom.\n",
      "\n",
      "Enter the symptom you are experiencing  \t\t->acidity\n",
      "searches related to input: \n",
      "0 ) acidity\n",
      "Okay. From how many days ? : 4\n",
      "Are you experiencing any \n",
      "vomiting ? : No\n",
      "provide proper answers i.e. (yes/no) : no\n",
      "yellowish_skin ? : yes\n",
      "abdominal_pain ? : no\n",
      "swelling_of_stomach ? : no\n",
      "distention_of_abdomen ? : yes\n",
      "history_of_alcohol_consumption ? : no\n",
      "fluid_overload.1 ? : no\n",
      "It might not be that bad but you should take precautions.\n",
      "You may have  Alcoholic hepatitis or  (vertigo) Paroymsal  Positional Vertigo\n",
      "Alcoholic hepatitis is a diseased, inflammatory condition of the liver caused by heavy alcohol consumption over an extended period of time. It's also aggravated by binge drinking and ongoing alcohol use. If you develop this condition, you must stop drinking alcohol\n",
      "Benign paroxysmal positional vertigo (BPPV) is one of the most common causes of vertigo â€” the sudden sensation that you're spinning or that the inside of your head is spinning. Benign paroxysmal positional vertigo causes brief episodes of mild to intense dizziness.\n",
      "Take following measures : \n",
      "1 ) stop alcohol consumption\n",
      "2 ) consult doctor\n",
      "3 ) medication\n",
      "4 ) follow up\n",
      "----------------------------------------------------------------------------------------\n"
     ]
    },
    {
     "name": "stderr",
     "output_type": "stream",
     "text": [
      "C:\\Users\\prana\\AppData\\Roaming\\Python\\Python310\\site-packages\\sklearn\\base.py:439: UserWarning: X does not have valid feature names, but DecisionTreeClassifier was fitted with feature names\n",
      "  warnings.warn(\n"
     ]
    }
   ],
   "source": [
    "getSeverityDict()\n",
    "getDescription()\n",
    "getprecautionDict()\n",
    "getInfo()\n",
    "tree_to_code(clf,cols)\n",
    "print(\"----------------------------------------------------------------------------------------\")"
   ]
  },
  {
   "cell_type": "code",
   "execution_count": null,
   "id": "842a6419",
   "metadata": {},
   "outputs": [],
   "source": []
  },
  {
   "cell_type": "code",
   "execution_count": null,
   "id": "729ba871",
   "metadata": {},
   "outputs": [],
   "source": []
  },
  {
   "cell_type": "code",
   "execution_count": null,
   "id": "d3c03308",
   "metadata": {},
   "outputs": [],
   "source": []
  }
 ],
 "metadata": {
  "kernelspec": {
   "display_name": "Python 3 (ipykernel)",
   "language": "python",
   "name": "python3"
  },
  "language_info": {
   "codemirror_mode": {
    "name": "ipython",
    "version": 3
   },
   "file_extension": ".py",
   "mimetype": "text/x-python",
   "name": "python",
   "nbconvert_exporter": "python",
   "pygments_lexer": "ipython3",
   "version": "3.10.9"
  }
 },
 "nbformat": 4,
 "nbformat_minor": 5
}
